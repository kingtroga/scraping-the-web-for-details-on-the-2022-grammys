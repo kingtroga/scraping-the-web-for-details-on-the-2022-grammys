{
  "cells": [
    {
      "cell_type": "markdown",
      "metadata": {
        "id": "c_o6OtCOjuMI"
      },
      "source": [
        "# Scraping for Categories, Winners, and Nominees for the 2022 GRAMMYs\n",
        "I'm one of those people who always claims to be really into music yet the only thing that i know about the 2022 GRAMMYs is that [Tyler's](https://www.google.com/search?gs_ssp=eJzj4tLP1TdILkopySo3YPQSLKnMSS1SKMlIVUguSk0syS8CAKRdCss&q=tyler+the+creator&oq=tyler&aqs=chrome.1.69i57j46i39j46i67i433j46i67j46i433i512j69i61l3.3555j0j7&sourceid=chrome&ie=UTF-8) album won 😂. And if you are seeing this you probably don't know much about the event too. Let's fix  that by [web scraping](https://en.wikipedia.org/wiki/Web_scraping) for the information so that before our friends start a conversation we can't keep up with. We'll would already know so much we would be the ones starting the conversation like \"How you doin?\":\n",
        "<img src=\"https://pbs.twimg.com/media/FP0_xP5XwAItvlo?format=jpg&name=small\" alt=\"How you doing?\" width=\"550\"/>\n"
      ]
    },
    {
      "cell_type": "markdown",
      "metadata": {},
      "source": [
        "## Description\n",
        "- For this project I'm going to be scrapping the official GRAMMYs [website](https://www.grammy.com/news/2022-grammys-complete-winners-nominees-nominations-list\n",
        ") using Python\n",
        "- Libraries used include: requests, BeautifulSoup, re, nltk, pandas\n",
        "  "
      ]
    },
    {
      "cell_type": "markdown",
      "metadata": {},
      "source": [
        "## Web Scraping begins\n",
        "First let's load all the libraries that we would be using for this project\n"
      ]
    },
    {
      "cell_type": "code",
      "execution_count": 1,
      "metadata": {
        "colab": {
          "base_uri": "https://localhost:8080/"
        },
        "id": "11F8CI4ojky_",
        "outputId": "8cc7ad9e-c983-48db-d02f-f0d3edd5cde6"
      },
      "outputs": [
        {
          "name": "stderr",
          "output_type": "stream",
          "text": [
            "[nltk_data] Downloading package punkt to\n",
            "[nltk_data]     C:\\Users\\TARI\\AppData\\Roaming\\nltk_data...\n",
            "[nltk_data]   Package punkt is already up-to-date!\n"
          ]
        }
      ],
      "source": [
        "# Website chosen (URL)\n",
        "# https://www.grammy.com/news/2022-grammys-complete-winners-nominees-nominations-list\n",
        "\n",
        "#load libraries\n",
        "import requests\n",
        "from bs4 import BeautifulSoup\n",
        "import re\n",
        "import nltk\n",
        "nltk.download('punkt')\n",
        "from nltk import sent_tokenize\n",
        "import pandas as pd"
      ]
    },
    {
      "cell_type": "markdown",
      "metadata": {},
      "source": [
        "Next let's download the page with **requests**"
      ]
    },
    {
      "cell_type": "code",
      "execution_count": 2,
      "metadata": {
        "id": "Eho_My7lkjGG"
      },
      "outputs": [],
      "source": [
        "# Download the Grammy page\n",
        "url = \"https://www.grammy.com/news/2022-grammys-complete-winners-nominees-nominations-list\"\n",
        "response = requests.get(url)\n",
        "\n",
        "# Check for error in downloading page\n",
        "response.raise_for_status()"
      ]
    },
    {
      "cell_type": "code",
      "execution_count": 3,
      "metadata": {
        "colab": {
          "base_uri": "https://localhost:8080/"
        },
        "id": "AZQTCdPomQd6",
        "outputId": "3e015029-8020-4f28-d89c-7109ad105870"
      },
      "outputs": [
        {
          "data": {
            "text/plain": [
              "368073"
            ]
          },
          "execution_count": 3,
          "metadata": {},
          "output_type": "execute_result"
        }
      ],
      "source": [
        "#size of the page\n",
        "len(response.text)"
      ]
    },
    {
      "cell_type": "code",
      "execution_count": 4,
      "metadata": {
        "id": "Y7cSVTo7m28Q"
      },
      "outputs": [],
      "source": [
        "page_contents = response.text"
      ]
    },
    {
      "cell_type": "markdown",
      "metadata": {},
      "source": [
        "#### Then we'll use **BeautifulSoup** to parse and extract information"
      ]
    },
    {
      "cell_type": "code",
      "execution_count": 6,
      "metadata": {
        "id": "Ty6Ygdqwmad8"
      },
      "outputs": [],
      "source": [
        "# Pasing information\n",
        "doc = BeautifulSoup(page_contents, 'html.parser')\n"
      ]
    },
    {
      "cell_type": "markdown",
      "metadata": {},
      "source": [
        "To extract information from the site we'll follow the following steps\n",
        "- **Step 1**: Open the [2022 GRAMMYs page](https://www.grammy.com/news/2022-grammys-complete-winners-nominees-nominations-list)\n",
        " ![photo1](https://pbs.twimg.com/media/FP1IBXBWUAEHxMI?format=jpg&name=large)\n",
        "\n",
        "- **Step 2**: Scroll down to the awards section \n",
        "![photo2](https://pbs.twimg.com/media/FP1IAEvXEAUpVZN?format=jpg&name=large)\n",
        "\n",
        "- **Step 3**: Right click on the \"General Field\" element and click on inspect\n",
        "![photo3](https://pbs.twimg.com/media/FP1NSfVXwAAEECZ?format=jpg&name=large)\n",
        "\n",
        "- **Step 4**: The developer options opens and we see that the \"General Field\" element is a `<h1>` element and is nested under a `<div>` element.\n",
        "![photo4](https://pbs.twimg.com/media/FP1NTtEX0AMlDkn?format=jpg&name=large)\n",
        "\n",
        "- **Step 5**: Next we'll click on the `<div>` element to see what it contains (nests)\n",
        "![photo5](https://pbs.twimg.com/media/FP1NU-oWUAEY180?format=jpg&name=large)\n",
        "\n",
        "- **Step 6**: Lastly we scroll down to find out that the `<div>` element of the class prose contains all the information we need. So we would be working mainly with that.\n",
        "![photo6](https://pbs.twimg.com/media/FP1NU-oWUAEY180?format=jpg&name=large)"
      ]
    },
    {
      "cell_type": "markdown",
      "metadata": {
        "id": "G1IC5Gc_nWEp"
      },
      "source": [
        "#### We just found out that all the Grammy details we need is in a div element that belongs to the class prose. So let's extract the details and start storing the info we need"
      ]
    },
    {
      "cell_type": "code",
      "execution_count": 8,
      "metadata": {
        "id": "csGJJZN3nMDV"
      },
      "outputs": [],
      "source": [
        "grammydets = doc.find_all('div', {'class': 'prose'})"
      ]
    },
    {
      "cell_type": "markdown",
      "metadata": {},
      "source": [
        "First we get a list of all the catergories in the 2022 grammy awards\n",
        "- From the one of the pictures we looked at above we can see that the \"General Field\" element is a `<h1>` element \n",
        "![photo4](https://pbs.twimg.com/media/FP1NTtEX0AMlDkn?format=jpg&name=large)\n",
        "- If we check the page further we see that every other category's design has the same look with and only with the \"General Field\" element\n",
        "![photo7](https://pbs.twimg.com/media/FP1Se38WQAEV4SA?format=jpg&name=large)\n"
      ]
    },
    {
      "cell_type": "markdown",
      "metadata": {},
      "source": [
        "That means in the `<div.prose>` class only the categories are `<h1>` tags. Let's get the categories then.  First we'll get all the `<h1>` tags then we'll store the categories in a list. For a more detailed explaination of what's happening [here](https://www.youtube.com/watch?v=RKsLLG-bzEY&t=6s)"
      ]
    },
    {
      "cell_type": "code",
      "execution_count": 13,
      "metadata": {
        "colab": {
          "base_uri": "https://localhost:8080/"
        },
        "id": "hqKXZsSKqz-z",
        "outputId": "85f0aef3-3018-4f99-affb-0a1a4b09ee88"
      },
      "outputs": [
        {
          "data": {
            "text/plain": [
              "26"
            ]
          },
          "execution_count": 13,
          "metadata": {},
          "output_type": "execute_result"
        }
      ],
      "source": [
        "# Get all h1 tags in div.prose\n",
        "h1_tags = grammydets[1].find_all('h1')\n",
        "# Are the categories complete?\n",
        "len(h1_tags)"
      ]
    },
    {
      "cell_type": "code",
      "execution_count": 14,
      "metadata": {
        "colab": {
          "base_uri": "https://localhost:8080/"
        },
        "id": "aKXWhEmQKcxa",
        "outputId": "ff7a453a-b922-4f04-9cf6-89fe64d85d10"
      },
      "outputs": [
        {
          "data": {
            "text/plain": [
              "26"
            ]
          },
          "execution_count": 14,
          "metadata": {},
          "output_type": "execute_result"
        }
      ],
      "source": [
        "# Get the categories\n",
        "categories = []\n",
        "for i in range(len(categories_tags)):\n",
        "  categories.append(categories_tags[i].text)\n",
        "categories\n",
        "len(categories)"
      ]
    },
    {
      "cell_type": "markdown",
      "metadata": {
        "id": "vVnsNiPCrejE"
      },
      "source": [
        "#### For the awards and winners\n",
        "Inspection of the page shows that all awards and winners are in bold that is they have the `<strong>` tag. See:\n",
        "1. Exhibit A:\n",
        "![photo8](https://pbs.twimg.com/media/FP1XEvUWUAspKEq?format=jpg&name=large)\n",
        "2. Exhibit B:\n",
        "![photo9](https://pbs.twimg.com/media/FP1XFr3XsAIZLor?format=jpg&name=large)\n"
      ]
    },
    {
      "cell_type": "markdown",
      "metadata": {},
      "source": [
        "Knowing that, first let's get all the `<strong>` tags."
      ]
    },
    {
      "cell_type": "code",
      "execution_count": 16,
      "metadata": {},
      "outputs": [],
      "source": [
        "strong_tags = doc.select('p > strong')"
      ]
    },
    {
      "cell_type": "markdown",
      "metadata": {},
      "source": [
        "Secondly, let's get each award given and store it in a list"
      ]
    },
    {
      "cell_type": "code",
      "execution_count": 21,
      "metadata": {
        "id": "ccEAaOWSq9x7"
      },
      "outputs": [],
      "source": [
        "# Getting awards\n",
        "awards = []\n",
        "for i in range(0, len(strong_tags)):\n",
        "  match = re.match('\\d\\.', strong_tags[i].text) # Get only text that being with a digiet 4. boy\n",
        "  match2 = re.match('\\d\\d\\.', strong_tags[i].text) # Get only text that being with a digiet 34. girl\n",
        "  if match or match2:\n",
        "    awards.append(strong_tags[i].text[3:].strip())\n",
        "  else:\n",
        "    continue"
      ]
    },
    {
      "cell_type": "code",
      "execution_count": 22,
      "metadata": {
        "colab": {
          "base_uri": "https://localhost:8080/"
        },
        "id": "L5t6OS1dr4DP",
        "outputId": "e83daba2-d219-48a1-bb00-bee658433f3a"
      },
      "outputs": [
        {
          "data": {
            "text/plain": [
              "['Record Of The Year',\n",
              " 'Album Of The Year',\n",
              " 'Song Of The Year',\n",
              " 'Best New Artist',\n",
              " 'Best Pop Solo Performance',\n",
              " 'Best Pop Duo/Group Performance',\n",
              " 'Best Traditional Pop Vocal Album',\n",
              " 'Best Pop Vocal Album',\n",
              " 'Best Dance/Electronic Recording',\n",
              " 'Best Dance/Electronic Music Album',\n",
              " 'Best Contemporary Instrumental Album',\n",
              " 'Best Rock Performance',\n",
              " 'Best Metal Performance',\n",
              " 'Best Rock Song',\n",
              " 'Best Rock Album',\n",
              " 'Best Alternative Music Album',\n",
              " 'Best R&B Performance',\n",
              " 'Best Traditional R&B Performance',\n",
              " 'Best R&B Song',\n",
              " 'Best Progressive R&B Album',\n",
              " 'Best R&B Album',\n",
              " 'Best Rap Performance',\n",
              " 'Best Melodic Rap Performance',\n",
              " 'Best Rap Song',\n",
              " 'Best Rap Album',\n",
              " 'Best Country Solo Performance',\n",
              " 'Best Country Duo/Group Performance',\n",
              " 'Best Country Song',\n",
              " 'Best Country Album',\n",
              " 'Best New Age Album',\n",
              " 'Best Improvised Jazz Solo',\n",
              " 'Best Jazz Vocal Album',\n",
              " 'Best Jazz Instrumental Album',\n",
              " 'Best Large Jazz Ensemble Album',\n",
              " 'Best Latin Jazz Album',\n",
              " 'Best Gospel Performance/Song',\n",
              " 'Best Contemporary Christian Music Performance/Song',\n",
              " 'Best Gospel Album',\n",
              " 'Best Contemporary Christian Music Album',\n",
              " 'Best Roots Gospel Album',\n",
              " 'Best Latin Pop Album',\n",
              " 'Best Música Urbana Album',\n",
              " 'Best Latin Rock or Alternative Album',\n",
              " 'Best Tropical Latin Album',\n",
              " 'Best American Roots Performance',\n",
              " 'Best American Roots Song',\n",
              " 'Best Americana Album',\n",
              " 'Best Bluegrass Album',\n",
              " 'Best Traditional Blues Album',\n",
              " 'Best Contemporary Blues Album',\n",
              " 'Best Folk Album',\n",
              " 'Best Regional Roots Music Album',\n",
              " 'Best Reggae Album',\n",
              " 'Best Global Music Performance',\n",
              " 'Best Global Music Album',\n",
              " \"Best Children's Music Album\",\n",
              " 'Best Spoken Word Album',\n",
              " 'Best Comedy Album',\n",
              " 'Best Musical Theater Album',\n",
              " 'Best Compilation Soundtrack For Visual Media',\n",
              " 'Best Score Soundtrack For Visual Media',\n",
              " 'Best Song Written For Visual Media',\n",
              " 'Best Instrumental Composition',\n",
              " 'Best Arrangement, Instrumental or A Cappella',\n",
              " 'Best Arrangement, Instruments and Vocals',\n",
              " 'Best Recording Package',\n",
              " 'Best Boxed Or Special Limited Edition Package',\n",
              " 'Best Album Notes',\n",
              " 'Best Historical Album',\n",
              " 'Best Engineered Album, Non-Classical',\n",
              " 'Producer Of The Year, Non-Classical',\n",
              " 'Best Remixed Recording',\n",
              " 'Best Immersive Audio Album',\n",
              " 'Best Engineered Album, Classical',\n",
              " 'Producer Of The Year, Classical',\n",
              " 'Best Orchestral Performance',\n",
              " 'Best Opera Recording',\n",
              " 'Best Choral Performance',\n",
              " 'Best Chamber Music/Small Ensemble Performance',\n",
              " 'Best Classical Instrumental Solo',\n",
              " 'Best Classical Solo Vocal Album',\n",
              " 'Best Classical Compendium',\n",
              " 'Best Contemporary Classical Composition',\n",
              " 'Best Music Video',\n",
              " 'Best Music Film']"
            ]
          },
          "execution_count": 22,
          "metadata": {},
          "output_type": "execute_result"
        }
      ],
      "source": [
        "# Check for errors\n",
        "awards"
      ]
    },
    {
      "cell_type": "markdown",
      "metadata": {},
      "source": [
        "Everything looks good so far 😅. But this feels too easy, let's check the number of awards stored."
      ]
    },
    {
      "cell_type": "code",
      "execution_count": 23,
      "metadata": {
        "colab": {
          "base_uri": "https://localhost:8080/"
        },
        "id": "gFMMS5tOtJ-l",
        "outputId": "645e1eea-d954-4553-ec08-7440906af50d"
      },
      "outputs": [
        {
          "data": {
            "text/plain": [
              "85"
            ]
          },
          "execution_count": 23,
          "metadata": {},
          "output_type": "execute_result"
        }
      ],
      "source": [
        "len(awards)"
      ]
    },
    {
      "cell_type": "markdown",
      "metadata": {
        "id": "MbegzB4xws2n"
      },
      "source": [
        "#### OH UH the's supposed to be 86. I know that much about the 2022 GRAMMYS 😅\n",
        "- Unto the webpage for a manual check to see what's wrong \n",
        "- so award 44 is not in bold that is not enclosed in a strong tag. \n",
        "![photo10](https://pbs.twimg.com/media/FP1e462XIAMFRUk?format=jpg&name=small)"
      ]
    },
    {
      "cell_type": "markdown",
      "metadata": {},
      "source": [
        "\n",
        "![bobthebuilder](https://upload.wikimedia.org/wikipedia/en/thumb/0/09/Bob_the_Builder_Can_We_Fix_It_art.jpg/220px-Bob_the_Builder_Can_We_Fix_It_art.jpg)\n",
        "\n",
        "Yes, we can Bob. Run along now don't deny those children their cartoons.😤"
      ]
    },
    {
      "cell_type": "markdown",
      "metadata": {},
      "source": [
        "Now that Bob has gone, to fix it we'll simply get all the `<p>` tags and use [regex](https://en.wikipedia.org/wiki/Regular_expression) expressions to get just the fourty fourth award. To do that in Python all one needs is the re module and we have already imported that"
      ]
    },
    {
      "cell_type": "code",
      "execution_count": 25,
      "metadata": {
        "id": "_xZW3BaKtN5k"
      },
      "outputs": [],
      "source": [
        "p_tags = grammydets[1].find_all('p')\n",
        "fourtyfour = []\n",
        "for i in range(0, len(p_tags)):\n",
        "  match3 = re.match(r'^\\*\\*\\d\\d', p_tags[i].text)\n",
        "  if match3:\n",
        "    fourtyfour.append(p_tags[i].text)\n",
        "fourtyfour = fourtyfour[0][5: 58].strip()"
      ]
    },
    {
      "cell_type": "code",
      "execution_count": 26,
      "metadata": {
        "colab": {
          "base_uri": "https://localhost:8080/",
          "height": 35
        },
        "id": "FEUrHi-pxZBI",
        "outputId": "107dc809-bf1e-4c16-c917-b61001bdc303"
      },
      "outputs": [
        {
          "data": {
            "text/plain": [
              "'Best Regional Mexican Music Album (Including Tejano)'"
            ]
          },
          "execution_count": 26,
          "metadata": {},
          "output_type": "execute_result"
        }
      ],
      "source": [
        "fourtyfour"
      ]
    },
    {
      "cell_type": "code",
      "execution_count": 27,
      "metadata": {
        "id": "2L8lxRd_yLA7"
      },
      "outputs": [],
      "source": [
        "awards.insert(43, fourtyfour)"
      ]
    },
    {
      "cell_type": "code",
      "execution_count": 28,
      "metadata": {
        "colab": {
          "base_uri": "https://localhost:8080/"
        },
        "id": "wQdMqBjD0CWN",
        "outputId": "c4bbd6d5-e0ce-477d-baf2-66987cefb5fb"
      },
      "outputs": [
        {
          "data": {
            "text/plain": [
              "86"
            ]
          },
          "execution_count": 28,
          "metadata": {},
          "output_type": "execute_result"
        }
      ],
      "source": [
        "\n",
        "len(awards)"
      ]
    },
    {
      "cell_type": "markdown",
      "metadata": {},
      "source": [
        "#### There you have it we saved the day 🦸. Unto the next task. Getting the list of winners"
      ]
    },
    {
      "cell_type": "markdown",
      "metadata": {},
      "source": [
        "We are basically doing the same thing we did to get the award list. Just that the pattern to follow this time is **WINNER** \n",
        "![photo11](https://pbs.twimg.com/media/FP1kaQDWQAwJG0s?format=jpg&name=large)"
      ]
    },
    {
      "cell_type": "markdown",
      "metadata": {},
      "source": [
        "- Or so we would have thought if we didn't just have to squash some annoying bugs we were getting the award list. Who would have thought that the official GRAMMY website had bugs? I guess you could say their pitch isn't perfect 😂\n",
        "- Anyways a manual check revealed the following:\n",
        "  1. There's a winner **without** the word **\"WINNER\"**\n",
        "  ![photo12](https://pbs.twimg.com/media/FP1qHAAXwAkiuI4?format=jpg&name=large)\n",
        "  2. There's a winner with the word **\"WINNNER\"**\n",
        "  ![photo13](https://pbs.twimg.com/media/FP1qIXbWYAEWSQ_?format=jpg&name=large)\n",
        "  3. There's an award that two people tied for, and the two people have the word **\"TIE\"** instead\n",
        "  ![photo14](https://pbs.twimg.com/media/FP1qJ-jX0AEz2Ry?format=jpg&name=large)\n",
        "  4. There's an award that also tied but this time the people involved contain the word **'Tie'**\n",
        "  ![photo15](https://pbs.twimg.com/media/FP1qLMlXMAMnPX4?format=jpg&name=large)\n"
      ]
    },
    {
      "cell_type": "markdown",
      "metadata": {},
      "source": [
        "#### With all of that clarified. Let's get the list of winners. With all the work we just did our names are better be on that list 😤"
      ]
    },
    {
      "cell_type": "code",
      "execution_count": 30,
      "metadata": {
        "id": "8yZQWEUW0YjO"
      },
      "outputs": [],
      "source": [
        "# Geting the list of winners\n",
        "winners = []\n",
        "tie_list1 = [] # Store the first tie\n",
        "tie_list2 = [] # Store the second tie\n",
        "\n",
        "for i in range(0, len(strong_tags), 1):\n",
        "    # for the normal condition \n",
        "    match = re.search('WINNER', strong_tags[i].text) \n",
        "    # for the order conditions\n",
        "    match2 = re.search('Sour Olivia Rodrigo', strong_tags[i].text)\n",
        "    match3 = re.search('WINNNER', strong_tags[i].text)\n",
        "    match4 = re.search('TIE', strong_tags[i].text)\n",
        "    match5 = re.search('Tie', strong_tags[i].text)\n",
        "    if match:\n",
        "      winners.append(strong_tags[i].text)\n",
        "    elif match2:\n",
        "      if strong_tags[i] not in winners:\n",
        "        winners.append(strong_tags[i].text)\n",
        "    elif match3:\n",
        "      winners.append(strong_tags[i].text)\n",
        "    elif match4:\n",
        "      # Here i used the sent_tokenize function from the nltk module\n",
        "      # it seperates a string into sentences\n",
        "      tie_list1.extend(sent_tokenize(strong_tags[i].text))\n",
        "      if tie_list1 not in winners:\n",
        "        winners.append(tie_list1)\n",
        "    elif match5:\n",
        "      tie_list2.extend(sent_tokenize(strong_tags[i].text))\n",
        "      if tie_list2 not in winners:\n",
        "        winners.append(tie_list2)\n",
        "    else:\n",
        "      continue"
      ]
    },
    {
      "cell_type": "markdown",
      "metadata": {},
      "source": [
        "Above the **sent_tokenize** function from [**nltk**](https://www.youtube.com/watch?v=X2vAabgKiuM&t=1405s) was used. For detailed explaination on how it works click on nltk. The number of winners should be 86 now if we completed our task correctly"
      ]
    },
    {
      "cell_type": "code",
      "execution_count": 31,
      "metadata": {
        "colab": {
          "base_uri": "https://localhost:8080/"
        },
        "id": "TBugOP0f1uaD",
        "outputId": "651f7ec9-63c2-40cb-8972-73cb7fdd2924"
      },
      "outputs": [
        {
          "data": {
            "text/plain": [
              "86"
            ]
          },
          "execution_count": 31,
          "metadata": {},
          "output_type": "execute_result"
        }
      ],
      "source": [
        "len(winners)"
      ]
    },
    {
      "cell_type": "code",
      "execution_count": 113,
      "metadata": {
        "colab": {
          "base_uri": "https://localhost:8080/"
        },
        "id": "iE9TDE-4Lnmj",
        "outputId": "eb3181b6-7fcb-4c56-c86a-6da680091f46"
      },
      "outputs": [
        {
          "name": "stdout",
          "output_type": "stream",
          "text": [
            "0:  4\n",
            "1:  4\n",
            "2:  2\n",
            "3:  1\n",
            "4:  4\n",
            "5:  1\n",
            "6:  5\n",
            "7:  4\n",
            "8:  4\n",
            "9:  1\n",
            "10:  5\n",
            "11:  5\n",
            "12:  5\n",
            "13:  8\n",
            "14:  1\n",
            "15:  2\n",
            "16:  1\n",
            "17:  1\n",
            "18:  1\n",
            "19:  1\n",
            "20:  3\n",
            "21:  3\n",
            "22:  4\n",
            "23:  6\n",
            "24:  8\n",
            "25:  2\n"
          ]
        }
      ],
      "source": [
        "no_of_awards = [4, 4, 2, 1, 4, 1, 5, 4, 4, 1, 5, 5, 5, 8, 1, 2, 1, 1, 1, 1, 3, 3, 4, 6, 8, 2]\n",
        "for i in range(len(no_of_awards)):\n",
        "  print(f\"{i}: \", no_of_awards[i])"
      ]
    },
    {
      "cell_type": "code",
      "execution_count": 114,
      "metadata": {
        "id": "Oh4PUduKMRB7"
      },
      "outputs": [],
      "source": [
        "categories_dict = {\n",
        "    'categories':categories,\n",
        "    'no_of_awards':no_of_awards,\n",
        "}"
      ]
    },
    {
      "cell_type": "code",
      "execution_count": 115,
      "metadata": {
        "id": "iQmgaC7RMeoE"
      },
      "outputs": [],
      "source": [
        "df = pd.DataFrame(categories_dict)"
      ]
    },
    {
      "cell_type": "code",
      "execution_count": 116,
      "metadata": {
        "colab": {
          "base_uri": "https://localhost:8080/"
        },
        "id": "aDYFNDmuMh9J",
        "outputId": "203143e8-f62a-4808-ed59-a31216290235"
      },
      "outputs": [
        {
          "data": {
            "text/plain": [
              "86"
            ]
          },
          "execution_count": 116,
          "metadata": {},
          "output_type": "execute_result"
        }
      ],
      "source": [
        "len(awards)\n"
      ]
    },
    {
      "cell_type": "code",
      "execution_count": 117,
      "metadata": {
        "id": "kUPy1gZbTdle"
      },
      "outputs": [],
      "source": [
        "awards_dict = {\n",
        "    'awards': awards,\n",
        "    'winners': winners\n",
        "}\n"
      ]
    },
    {
      "cell_type": "code",
      "execution_count": 118,
      "metadata": {
        "id": "IJk-_Y60dE6L"
      },
      "outputs": [
        {
          "data": {
            "text/html": [
              "<div>\n",
              "<style scoped>\n",
              "    .dataframe tbody tr th:only-of-type {\n",
              "        vertical-align: middle;\n",
              "    }\n",
              "\n",
              "    .dataframe tbody tr th {\n",
              "        vertical-align: top;\n",
              "    }\n",
              "\n",
              "    .dataframe thead th {\n",
              "        text-align: right;\n",
              "    }\n",
              "</style>\n",
              "<table border=\"1\" class=\"dataframe\">\n",
              "  <thead>\n",
              "    <tr style=\"text-align: right;\">\n",
              "      <th></th>\n",
              "      <th>awards</th>\n",
              "      <th>winners</th>\n",
              "    </tr>\n",
              "  </thead>\n",
              "  <tbody>\n",
              "    <tr>\n",
              "      <th>0</th>\n",
              "      <td>Record Of The Year</td>\n",
              "      <td>Leave The Door Open - WINNERSilk SonicDernst \"...</td>\n",
              "    </tr>\n",
              "    <tr>\n",
              "      <th>1</th>\n",
              "      <td>Album Of The Year</td>\n",
              "      <td>We Are - WINNERJon BatisteCraig Adams, David G...</td>\n",
              "    </tr>\n",
              "    <tr>\n",
              "      <th>2</th>\n",
              "      <td>Song Of The Year</td>\n",
              "      <td>Leave The Door Open - WINNERBrandon Anderson, ...</td>\n",
              "    </tr>\n",
              "    <tr>\n",
              "      <th>3</th>\n",
              "      <td>Best New Artist</td>\n",
              "      <td>Olivia Rodrigo - WINNER</td>\n",
              "    </tr>\n",
              "    <tr>\n",
              "      <th>4</th>\n",
              "      <td>Best Pop Solo Performance</td>\n",
              "      <td>drivers license - WINNEROlivia Rodrigo</td>\n",
              "    </tr>\n",
              "    <tr>\n",
              "      <th>...</th>\n",
              "      <td>...</td>\n",
              "      <td>...</td>\n",
              "    </tr>\n",
              "    <tr>\n",
              "      <th>81</th>\n",
              "      <td>Best Classical Solo Vocal Album</td>\n",
              "      <td>Mythologies - WINNERSangeeta Kaur &amp; Hila Plitm...</td>\n",
              "    </tr>\n",
              "    <tr>\n",
              "      <th>82</th>\n",
              "      <td>Best Classical Compendium</td>\n",
              "      <td>Women Warriors - The Voices Of Change - WINNER...</td>\n",
              "    </tr>\n",
              "    <tr>\n",
              "      <th>83</th>\n",
              "      <td>Best Contemporary Classical Composition</td>\n",
              "      <td>Shaw: Narrow Sea - WINNERCaroline Shaw, compos...</td>\n",
              "    </tr>\n",
              "    <tr>\n",
              "      <th>84</th>\n",
              "      <td>Best Music Video</td>\n",
              "      <td>Freedom - WINNERJon BatisteAlan Ferguson, vide...</td>\n",
              "    </tr>\n",
              "    <tr>\n",
              "      <th>85</th>\n",
              "      <td>Best Music Film</td>\n",
              "      <td>Summer Of Soul - WINNER(Various Artists)Ahmir ...</td>\n",
              "    </tr>\n",
              "  </tbody>\n",
              "</table>\n",
              "<p>86 rows × 2 columns</p>\n",
              "</div>"
            ],
            "text/plain": [
              "                                     awards  \\\n",
              "0                        Record Of The Year   \n",
              "1                         Album Of The Year   \n",
              "2                          Song Of The Year   \n",
              "3                           Best New Artist   \n",
              "4                 Best Pop Solo Performance   \n",
              "..                                      ...   \n",
              "81          Best Classical Solo Vocal Album   \n",
              "82                Best Classical Compendium   \n",
              "83  Best Contemporary Classical Composition   \n",
              "84                         Best Music Video   \n",
              "85                          Best Music Film   \n",
              "\n",
              "                                              winners  \n",
              "0   Leave The Door Open - WINNERSilk SonicDernst \"...  \n",
              "1   We Are - WINNERJon BatisteCraig Adams, David G...  \n",
              "2   Leave The Door Open - WINNERBrandon Anderson, ...  \n",
              "3                             Olivia Rodrigo - WINNER  \n",
              "4              drivers license - WINNEROlivia Rodrigo  \n",
              "..                                                ...  \n",
              "81  Mythologies - WINNERSangeeta Kaur & Hila Plitm...  \n",
              "82  Women Warriors - The Voices Of Change - WINNER...  \n",
              "83  Shaw: Narrow Sea - WINNERCaroline Shaw, compos...  \n",
              "84  Freedom - WINNERJon BatisteAlan Ferguson, vide...  \n",
              "85  Summer Of Soul - WINNER(Various Artists)Ahmir ...  \n",
              "\n",
              "[86 rows x 2 columns]"
            ]
          },
          "execution_count": 118,
          "metadata": {},
          "output_type": "execute_result"
        }
      ],
      "source": [
        "df_awards =  pd.DataFrame(awards_dict)\n",
        "df_awards"
      ]
    },
    {
      "cell_type": "code",
      "execution_count": 119,
      "metadata": {},
      "outputs": [],
      "source": [
        "df.to_csv(\"categories.csv\", index=None, mode='w')\n",
        "df_awards.to_csv(\"awards.csv\", index=None, mode='w')\n"
      ]
    },
    {
      "cell_type": "code",
      "execution_count": null,
      "metadata": {},
      "outputs": [],
      "source": []
    },
    {
      "cell_type": "code",
      "execution_count": null,
      "metadata": {},
      "outputs": [],
      "source": []
    },
    {
      "cell_type": "code",
      "execution_count": null,
      "metadata": {},
      "outputs": [],
      "source": []
    },
    {
      "cell_type": "code",
      "execution_count": null,
      "metadata": {},
      "outputs": [],
      "source": []
    },
    {
      "cell_type": "code",
      "execution_count": null,
      "metadata": {},
      "outputs": [],
      "source": []
    }
  ],
  "metadata": {
    "colab": {
      "collapsed_sections": [],
      "name": "scraping-the-web-for-details-on-the-2022-grammys",
      "provenance": []
    },
    "kernelspec": {
      "display_name": "Python 3",
      "name": "python3"
    },
    "language_info": {
      "codemirror_mode": {
        "name": "ipython",
        "version": 3
      },
      "file_extension": ".py",
      "mimetype": "text/x-python",
      "name": "python",
      "nbconvert_exporter": "python",
      "pygments_lexer": "ipython3",
      "version": "3.9.5"
    }
  },
  "nbformat": 4,
  "nbformat_minor": 0
}
