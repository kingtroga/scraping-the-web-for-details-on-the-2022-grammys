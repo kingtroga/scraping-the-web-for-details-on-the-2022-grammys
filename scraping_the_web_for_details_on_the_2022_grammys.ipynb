{
  "nbformat": 4,
  "nbformat_minor": 0,
  "metadata": {
    "colab": {
      "name": "scraping-the-web-for-details-on-the-2022-grammys",
      "provenance": [],
      "collapsed_sections": []
    },
    "kernelspec": {
      "name": "python3",
      "display_name": "Python 3"
    },
    "language_info": {
      "name": "python"
    }
  },
  "cells": [
    {
      "cell_type": "markdown",
      "source": [
        "# Categories, Winners, and Nominees for the 2022 GRAMMYs\n"
      ],
      "metadata": {
        "id": "c_o6OtCOjuMI"
      }
    },
    {
      "cell_type": "markdown",
      "source": [
        "### Pick a website and describe your objective\n",
        "\n",
        "- Browse through different sites and pick on to scrape. Check the \"Project Ideas\" section for inspiration.\n",
        "- Identify the information you'd like to scrape from the site. Decide the format of the output CSV file.\n",
        "- Summarize your project idea and outline your strategy in a Juptyer notebook. Use the \"New\" button above.\n"
      ],
      "metadata": {
        "id": "Mrtpr5eejzmD"
      }
    },
    {
      "cell_type": "code",
      "execution_count": 1,
      "metadata": {
        "colab": {
          "base_uri": "https://localhost:8080/"
        },
        "id": "11F8CI4ojky_",
        "outputId": "8cc7ad9e-c983-48db-d02f-f0d3edd5cde6"
      },
      "outputs": [
        {
          "output_type": "stream",
          "name": "stdout",
          "text": [
            "[nltk_data] Downloading package punkt to /root/nltk_data...\n",
            "[nltk_data]   Unzipping tokenizers/punkt.zip.\n"
          ]
        }
      ],
      "source": [
        "# Website chosen (URL)\n",
        "# https://www.grammy.com/news/2022-grammys-complete-winners-nominees-nominations-list\n",
        "\n",
        "#load libraries\n",
        "import requests\n",
        "from bs4 import BeautifulSoup\n",
        "import re\n",
        "import nltk\n",
        "nltk.download('punkt')\n",
        "from nltk import sent_tokenize\n",
        "import pandas as pd"
      ]
    },
    {
      "cell_type": "code",
      "source": [
        "# Download the Grammy page\n",
        "url = \"https://www.grammy.com/news/2022-grammys-complete-winners-nominees-nominations-list\"\n",
        "response = requests.get(url)\n",
        "\n",
        "# Check for error in downloading page\n",
        "response.raise_for_status()"
      ],
      "metadata": {
        "id": "Eho_My7lkjGG"
      },
      "execution_count": 2,
      "outputs": []
    },
    {
      "cell_type": "code",
      "source": [
        "#size of the page\n",
        "len(response.text)"
      ],
      "metadata": {
        "colab": {
          "base_uri": "https://localhost:8080/"
        },
        "id": "AZQTCdPomQd6",
        "outputId": "3e015029-8020-4f28-d89c-7109ad105870"
      },
      "execution_count": 3,
      "outputs": [
        {
          "output_type": "execute_result",
          "data": {
            "text/plain": [
              "368073"
            ]
          },
          "metadata": {},
          "execution_count": 3
        }
      ]
    },
    {
      "cell_type": "code",
      "source": [
        "page_contents = response.text"
      ],
      "metadata": {
        "id": "Y7cSVTo7m28Q"
      },
      "execution_count": 4,
      "outputs": []
    },
    {
      "cell_type": "markdown",
      "source": [
        "### Use the requests library to download web pages\n",
        "\n",
        "- Inspect the website's HTML source and identify the right URLs to download.\n",
        "- Download and save web pages locally using the requests library.\n",
        "- Create a function to automate downloading for different topics/search queries."
      ],
      "metadata": {
        "id": "f0qzicuummRz"
      }
    },
    {
      "cell_type": "code",
      "source": [
        "# parse the pages_contents as html file\n",
        "doc = BeautifulSoup(page_contents, 'html.parser')\n"
      ],
      "metadata": {
        "id": "Ty6Ygdqwmad8"
      },
      "execution_count": 5,
      "outputs": []
    },
    {
      "cell_type": "markdown",
      "source": [
        "## inspected website and found out that all the data that i will be working with in the div.prose class"
      ],
      "metadata": {
        "id": "G1IC5Gc_nWEp"
      }
    },
    {
      "cell_type": "code",
      "source": [
        "grammydets = doc.find_all('div', {'class': 'prose'})"
      ],
      "metadata": {
        "id": "csGJJZN3nMDV"
      },
      "execution_count": 6,
      "outputs": []
    },
    {
      "cell_type": "code",
      "source": [
        "# Categories\n",
        "categories_tags = grammydets[1].find_all('h1')\n",
        "len(categories_tags)"
      ],
      "metadata": {
        "colab": {
          "base_uri": "https://localhost:8080/"
        },
        "id": "hqKXZsSKqz-z",
        "outputId": "85f0aef3-3018-4f99-affb-0a1a4b09ee88"
      },
      "execution_count": 7,
      "outputs": [
        {
          "output_type": "execute_result",
          "data": {
            "text/plain": [
              "26"
            ]
          },
          "metadata": {},
          "execution_count": 7
        }
      ]
    },
    {
      "cell_type": "code",
      "source": [
        "categories = []\n",
        "for i in range(len(categories_tags)):\n",
        "  categories.append(categories_tags[i].text)\n",
        "categories\n",
        "len(categories)"
      ],
      "metadata": {
        "colab": {
          "base_uri": "https://localhost:8080/"
        },
        "id": "aKXWhEmQKcxa",
        "outputId": "ff7a453a-b922-4f04-9cf6-89fe64d85d10"
      },
      "execution_count": 8,
      "outputs": [
        {
          "output_type": "execute_result",
          "data": {
            "text/plain": [
              "26"
            ]
          },
          "metadata": {},
          "execution_count": 8
        }
      ]
    },
    {
      "cell_type": "markdown",
      "source": [
        "# IT Seems like all the awards are in bold text format"
      ],
      "metadata": {
        "id": "vVnsNiPCrejE"
      }
    },
    {
      "cell_type": "code",
      "source": [
        "# awards \n",
        "strong_tags = doc.select('p > strong')\n",
        "awards = []\n",
        "for i in range(0, len(strong_tags), 1):\n",
        "  match = re.match('\\d\\.', strong_tags[i].text)\n",
        "  match2 = re.match('\\d\\d\\.', strong_tags[i].text)\n",
        "  if match or match2 or match:\n",
        "    awards.append(strong_tags[i].text[:].strip())\n",
        "  else:\n",
        "    continue"
      ],
      "metadata": {
        "id": "ccEAaOWSq9x7"
      },
      "execution_count": 9,
      "outputs": []
    },
    {
      "cell_type": "code",
      "source": [
        "awards"
      ],
      "metadata": {
        "colab": {
          "base_uri": "https://localhost:8080/"
        },
        "id": "L5t6OS1dr4DP",
        "outputId": "e83daba2-d219-48a1-bb00-bee658433f3a"
      },
      "execution_count": 10,
      "outputs": [
        {
          "output_type": "execute_result",
          "data": {
            "text/plain": [
              "['1. Record Of The Year',\n",
              " '2. Album Of The Year',\n",
              " '3.\\xa0Song Of The Year',\n",
              " '4. Best New Artist',\n",
              " '5. Best Pop Solo Performance',\n",
              " '6. Best Pop Duo/Group Performance',\n",
              " '7. Best Traditional Pop Vocal Album',\n",
              " '8. Best Pop Vocal Album',\n",
              " '9. Best Dance/Electronic Recording',\n",
              " '10. Best Dance/Electronic Music Album',\n",
              " '11. Best Contemporary Instrumental Album',\n",
              " '12. Best Rock Performance',\n",
              " '13. Best Metal Performance',\n",
              " '14. Best Rock Song',\n",
              " '15. Best Rock Album',\n",
              " '16. Best Alternative Music Album',\n",
              " '17. Best R&B Performance',\n",
              " '18. Best Traditional R&B Performance',\n",
              " '19. Best R&B Song',\n",
              " '20. Best Progressive R&B Album',\n",
              " '21. Best R&B Album',\n",
              " '22. Best Rap Performance',\n",
              " '23. Best Melodic Rap Performance',\n",
              " '24. Best Rap Song',\n",
              " '25. Best Rap Album',\n",
              " '26. Best Country Solo Performance',\n",
              " '27. Best Country Duo/Group Performance',\n",
              " '28. Best Country Song',\n",
              " '29. Best Country Album',\n",
              " '30. Best New Age Album',\n",
              " '31. Best Improvised Jazz Solo',\n",
              " '32. Best Jazz Vocal Album',\n",
              " '33. Best Jazz Instrumental Album',\n",
              " '34. Best Large Jazz Ensemble Album',\n",
              " '35. Best Latin Jazz Album',\n",
              " '36. Best Gospel Performance/Song',\n",
              " '37. Best Contemporary Christian Music Performance/Song',\n",
              " '38. Best Gospel Album',\n",
              " '39. Best Contemporary Christian Music Album',\n",
              " '40. Best Roots Gospel Album',\n",
              " '41. Best Latin Pop Album',\n",
              " '42. Best Música Urbana Album',\n",
              " '43. Best Latin Rock or Alternative Album',\n",
              " '45. Best Tropical Latin Album',\n",
              " '46. Best American Roots Performance',\n",
              " '47. Best American Roots Song',\n",
              " '48. Best Americana Album',\n",
              " '49. Best Bluegrass Album',\n",
              " '50. Best Traditional Blues Album',\n",
              " '51. Best Contemporary Blues Album',\n",
              " '52. Best Folk Album',\n",
              " '53. Best Regional Roots Music Album',\n",
              " '54. Best Reggae Album',\n",
              " '55. Best Global Music Performance',\n",
              " '56. Best Global Music Album',\n",
              " \"57. Best Children's Music Album\",\n",
              " '58. Best Spoken Word Album',\n",
              " '59. Best Comedy Album',\n",
              " '60. Best Musical Theater Album',\n",
              " '61. Best Compilation Soundtrack For Visual Media',\n",
              " '62. Best Score Soundtrack For Visual Media',\n",
              " '63. Best Song Written For Visual Media',\n",
              " '64. Best Instrumental Composition',\n",
              " '65. Best Arrangement, Instrumental or A Cappella',\n",
              " '66. Best Arrangement, Instruments and Vocals',\n",
              " '67. Best Recording Package',\n",
              " '68. Best Boxed Or Special Limited Edition Package',\n",
              " '69. Best Album Notes',\n",
              " '70. Best Historical Album',\n",
              " '71. Best Engineered Album, Non-Classical',\n",
              " '72. Producer Of The Year, Non-Classical',\n",
              " '73. Best Remixed Recording',\n",
              " '74. Best Immersive Audio Album',\n",
              " '75. Best Engineered Album, Classical',\n",
              " '76. Producer Of The Year, Classical',\n",
              " '77. Best Orchestral Performance',\n",
              " '78. Best Opera Recording',\n",
              " '79. Best Choral Performance',\n",
              " '80. Best Chamber Music/Small Ensemble Performance',\n",
              " '81. Best Classical Instrumental Solo',\n",
              " '82. Best Classical Solo Vocal Album',\n",
              " '83. Best Classical Compendium',\n",
              " '84. Best Contemporary Classical Composition',\n",
              " '85. Best Music Video',\n",
              " '86. Best Music Film']"
            ]
          },
          "metadata": {},
          "execution_count": 10
        }
      ]
    },
    {
      "cell_type": "code",
      "source": [
        "len(awards)"
      ],
      "metadata": {
        "colab": {
          "base_uri": "https://localhost:8080/"
        },
        "id": "gFMMS5tOtJ-l",
        "outputId": "645e1eea-d954-4553-ec08-7440906af50d"
      },
      "execution_count": 11,
      "outputs": [
        {
          "output_type": "execute_result",
          "data": {
            "text/plain": [
              "85"
            ]
          },
          "metadata": {},
          "execution_count": 11
        }
      ]
    },
    {
      "cell_type": "markdown",
      "source": [
        "# OH UH the's supposed to be 86. I know that much\n",
        "- let's check the url to see what's wrong\n",
        "- so award 44 is not in bold that is not enclosed in a strong tag. Nah smalls we go run am"
      ],
      "metadata": {
        "id": "MbegzB4xws2n"
      }
    },
    {
      "cell_type": "code",
      "source": [
        "p_tags = grammydets[1].find_all('p')\n",
        "fourtyfour = ['']\n",
        "for i in range(0, len(p_tags)):\n",
        "  match3 = re.match(r'^\\*\\*\\d\\d', p_tags[i].text)\n",
        "  if match3:\n",
        "    fourtyfour.append(p_tags[i].text)\n",
        "fourtyfour = fourtyfour[1][2: 58]"
      ],
      "metadata": {
        "id": "_xZW3BaKtN5k"
      },
      "execution_count": 12,
      "outputs": []
    },
    {
      "cell_type": "code",
      "source": [
        "fourtyfour"
      ],
      "metadata": {
        "colab": {
          "base_uri": "https://localhost:8080/",
          "height": 35
        },
        "id": "FEUrHi-pxZBI",
        "outputId": "107dc809-bf1e-4c16-c917-b61001bdc303"
      },
      "execution_count": 13,
      "outputs": [
        {
          "output_type": "execute_result",
          "data": {
            "text/plain": [
              "'44. Best Regional Mexican Music Album (Including Tejano)'"
            ],
            "application/vnd.google.colaboratory.intrinsic+json": {
              "type": "string"
            }
          },
          "metadata": {},
          "execution_count": 13
        }
      ]
    },
    {
      "cell_type": "code",
      "source": [
        "awards.insert(43, fourtyfour)"
      ],
      "metadata": {
        "id": "2L8lxRd_yLA7"
      },
      "execution_count": 14,
      "outputs": []
    },
    {
      "cell_type": "code",
      "source": [
        "\n",
        "len(awards)"
      ],
      "metadata": {
        "colab": {
          "base_uri": "https://localhost:8080/"
        },
        "id": "wQdMqBjD0CWN",
        "outputId": "c4bbd6d5-e0ce-477d-baf2-66987cefb5fb"
      },
      "execution_count": 15,
      "outputs": [
        {
          "output_type": "execute_result",
          "data": {
            "text/plain": [
              "86"
            ]
          },
          "metadata": {},
          "execution_count": 15
        }
      ]
    },
    {
      "cell_type": "code",
      "source": [
        "winners = []\n",
        "tie_list1 = []\n",
        "tie_list2 = []\n",
        "\n",
        "for i in range(0, len(strong_tags), 1):\n",
        "    match = re.search('WINNER', strong_tags[i].text)\n",
        "    match2 = re.search('Sour Olivia Rodrigo', strong_tags[i].text)\n",
        "    match3 = re.search('WINNNER', strong_tags[i].text)\n",
        "    match4 = re.search('TIE', strong_tags[i].text)\n",
        "    match5 = re.search('Tie', strong_tags[i].text)\n",
        "    if match:\n",
        "      winners.append(strong_tags[i].text)\n",
        "    elif match2:\n",
        "      if strong_tags[i] not in winners:\n",
        "        winners.append(strong_tags[i].text)\n",
        "    elif match3:\n",
        "      winners.append(strong_tags[i].text)\n",
        "    elif match4:\n",
        "      tie_list1.extend(sent_tokenize(strong_tags[i].text))\n",
        "      if tie_list1 not in winners:\n",
        "        winners.append(tie_list1)\n",
        "    elif match5:\n",
        "      tie_list2.extend(sent_tokenize(strong_tags[i].text))\n",
        "      if tie_list2 not in winners:\n",
        "        winners.append(tie_list2)\n",
        "    else:\n",
        "      continue"
      ],
      "metadata": {
        "id": "8yZQWEUW0YjO"
      },
      "execution_count": 16,
      "outputs": []
    },
    {
      "cell_type": "code",
      "source": [
        "len(winners)"
      ],
      "metadata": {
        "colab": {
          "base_uri": "https://localhost:8080/"
        },
        "id": "TBugOP0f1uaD",
        "outputId": "651f7ec9-63c2-40cb-8972-73cb7fdd2924"
      },
      "execution_count": 17,
      "outputs": [
        {
          "output_type": "execute_result",
          "data": {
            "text/plain": [
              "86"
            ]
          },
          "metadata": {},
          "execution_count": 17
        }
      ]
    },
    {
      "cell_type": "markdown",
      "source": [
        "Data gotten manually from url 2"
      ],
      "metadata": {
        "id": "jmJ6VAbsK7sI"
      }
    },
    {
      "cell_type": "code",
      "source": [
        "for i in range(len(categories)):\n",
        "  print(f\"{i}: \", categories[i])"
      ],
      "metadata": {
        "colab": {
          "base_uri": "https://localhost:8080/"
        },
        "id": "z3oGDG7M5AUf",
        "outputId": "46e5d7ae-373e-4e3a-9d22-cacda4a0e3bb"
      },
      "execution_count": 18,
      "outputs": [
        {
          "output_type": "stream",
          "name": "stdout",
          "text": [
            "0:  General Field\n",
            "1:  Pop\n",
            "2:  Dance/Electronic Music\n",
            "3:  Contemporary Instrumental Music\n",
            "4:  Rock\n",
            "5:  Alternative\n",
            "6:  R&B\n",
            "7:  Rap\n",
            "8:  Country\n",
            "9:  New Age\n",
            "10:  Jazz\n",
            "11:  Gospel/Contemporary Christian Music\n",
            "12:  Latin\n",
            "13:  American Roots Music\n",
            "14:  Reggae\n",
            "15:  Global Music\n",
            "16:  Children's\n",
            "17:  Spoken Word\n",
            "18:  Comedy\n",
            "19:  Musical Theater\n",
            "20:  Music for Visual Media\n",
            "21:  Composing/Arranging\n",
            "22:  Package, Notes, and Historical\n",
            "23:  Production\n",
            "24:  Classical\n",
            "25:  Music Video/Film\n"
          ]
        }
      ]
    },
    {
      "cell_type": "code",
      "source": [
        "no_of_awards = [4, 4, 2, 1, 4, 1, 5, 4, 4, 1, 5, 5, 5, 8, 1, 2, 1, 1, 1, 1, 3, 3, 4, 6, 8, 2]\n",
        "for i in range(len(no_of_awards)):\n",
        "  print(f\"{i}: \", no_of_awards[i])"
      ],
      "metadata": {
        "colab": {
          "base_uri": "https://localhost:8080/"
        },
        "id": "iE9TDE-4Lnmj",
        "outputId": "eb3181b6-7fcb-4c56-c86a-6da680091f46"
      },
      "execution_count": 20,
      "outputs": [
        {
          "output_type": "stream",
          "name": "stdout",
          "text": [
            "0:  4\n",
            "1:  4\n",
            "2:  2\n",
            "3:  1\n",
            "4:  4\n",
            "5:  1\n",
            "6:  5\n",
            "7:  4\n",
            "8:  4\n",
            "9:  1\n",
            "10:  5\n",
            "11:  5\n",
            "12:  5\n",
            "13:  8\n",
            "14:  1\n",
            "15:  2\n",
            "16:  1\n",
            "17:  1\n",
            "18:  1\n",
            "19:  1\n",
            "20:  3\n",
            "21:  3\n",
            "22:  4\n",
            "23:  6\n",
            "24:  8\n",
            "25:  2\n"
          ]
        }
      ]
    },
    {
      "cell_type": "code",
      "source": [
        "categories_dict = {\n",
        "    'categories':categories,\n",
        "    'no_of_awards':no_of_awards,\n",
        "}"
      ],
      "metadata": {
        "id": "Oh4PUduKMRB7"
      },
      "execution_count": 23,
      "outputs": []
    },
    {
      "cell_type": "code",
      "source": [
        "df = pd.DataFrame(categories_dict)"
      ],
      "metadata": {
        "id": "iQmgaC7RMeoE"
      },
      "execution_count": 24,
      "outputs": []
    },
    {
      "cell_type": "code",
      "source": [
        "len(awards)\n",
        "len(winners)"
      ],
      "metadata": {
        "colab": {
          "base_uri": "https://localhost:8080/"
        },
        "id": "aDYFNDmuMh9J",
        "outputId": "203143e8-f62a-4808-ed59-a31216290235"
      },
      "execution_count": 25,
      "outputs": [
        {
          "output_type": "execute_result",
          "data": {
            "text/plain": [
              "86"
            ]
          },
          "metadata": {},
          "execution_count": 25
        }
      ]
    },
    {
      "cell_type": "code",
      "source": [
        "\"\""
      ],
      "metadata": {
        "id": "kUPy1gZbTdle"
      },
      "execution_count": null,
      "outputs": []
    },
    {
      "cell_type": "code",
      "source": [
        ""
      ],
      "metadata": {
        "id": "IJk-_Y60dE6L"
      },
      "execution_count": null,
      "outputs": []
    }
  ]
}