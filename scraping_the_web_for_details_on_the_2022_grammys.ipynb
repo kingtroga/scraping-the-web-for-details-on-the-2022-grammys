{
  "cells": [
    {
      "cell_type": "markdown",
      "metadata": {
        "id": "c_o6OtCOjuMI"
      },
      "source": [
        "# Scraping for Categories, Winners, and Nominees for the 2022 GRAMMYs\n",
        "- I'm one of those people who always claims to be really into music yet the only thing that i know about\n",
        "the 2022 GRAMMYs is that [Tyler's](https://www.google.com/search?gs_ssp=eJzj4tLP1TdILkopySo3YPQSLKnMSS1SKMlIVUguSk0syS8CAKRdCss&q=tyler+the+creator&oq=tyler&aqs=chrome.1.69i57j46i39j46i67i433j46i67j46i433i512j69i61l3.3555j0j7&sourceid=chrome&ie=UTF-8) album won 😂. And if you are seeing this you probably don't know much about the event too. Let's fix that so that before our friends start a conversation we can't keep up with. We'll would already know so much we would be the ones starting the conversation like\n",
        "![How you doing](https://encrypted-tbn0.gstatic.com/images?q=tbn:ANd9GcQZTc4hymVFN3dgAk1NZfGKBtW3oPOXz3rgbQ&usqp=CAU)"
      ]
    },
    {
      "cell_type": "markdown",
      "metadata": {
        "id": "Mrtpr5eejzmD"
      },
      "source": [
        "### Pick a website and describe your objective\n",
        "\n",
        "- Browse through different sites and pick on to scrape. Check the \"Project Ideas\" section for inspiration.\n",
        "- Identify the information you'd like to scrape from the site. Decide the format of the output CSV file.\n",
        "- Summarize your project idea and outline your strategy in a Juptyer notebook. Use the \"New\" button above.\n"
      ]
    },
    {
      "cell_type": "code",
      "execution_count": 95,
      "metadata": {
        "colab": {
          "base_uri": "https://localhost:8080/"
        },
        "id": "11F8CI4ojky_",
        "outputId": "8cc7ad9e-c983-48db-d02f-f0d3edd5cde6"
      },
      "outputs": [
        {
          "name": "stderr",
          "output_type": "stream",
          "text": [
            "[nltk_data] Downloading package punkt to\n",
            "[nltk_data]     C:\\Users\\TARI\\AppData\\Roaming\\nltk_data...\n",
            "[nltk_data]   Package punkt is already up-to-date!\n"
          ]
        }
      ],
      "source": [
        "# Website chosen (URL)\n",
        "# https://www.grammy.com/news/2022-grammys-complete-winners-nominees-nominations-list\n",
        "\n",
        "#load libraries\n",
        "import requests\n",
        "from bs4 import BeautifulSoup\n",
        "import re\n",
        "import nltk\n",
        "nltk.download('punkt')\n",
        "from nltk import sent_tokenize\n",
        "import pandas as pd"
      ]
    },
    {
      "cell_type": "code",
      "execution_count": 96,
      "metadata": {
        "id": "Eho_My7lkjGG"
      },
      "outputs": [],
      "source": [
        "# Download the Grammy page\n",
        "url = \"https://www.grammy.com/news/2022-grammys-complete-winners-nominees-nominations-list\"\n",
        "response = requests.get(url)\n",
        "\n",
        "# Check for error in downloading page\n",
        "response.raise_for_status()"
      ]
    },
    {
      "cell_type": "code",
      "execution_count": 97,
      "metadata": {
        "colab": {
          "base_uri": "https://localhost:8080/"
        },
        "id": "AZQTCdPomQd6",
        "outputId": "3e015029-8020-4f28-d89c-7109ad105870"
      },
      "outputs": [
        {
          "data": {
            "text/plain": [
              "368073"
            ]
          },
          "execution_count": 97,
          "metadata": {},
          "output_type": "execute_result"
        }
      ],
      "source": [
        "#size of the page\n",
        "len(response.text)"
      ]
    },
    {
      "cell_type": "code",
      "execution_count": 98,
      "metadata": {
        "id": "Y7cSVTo7m28Q"
      },
      "outputs": [],
      "source": [
        "page_contents = response.text"
      ]
    },
    {
      "cell_type": "markdown",
      "metadata": {
        "id": "f0qzicuummRz"
      },
      "source": [
        "### Use the requests library to download web pages\n",
        "\n",
        "- Inspect the website's HTML source and identify the right URLs to download.\n",
        "- Download and save web pages locally using the requests library.\n",
        "- Create a function to automate downloading for different topics/search queries."
      ]
    },
    {
      "cell_type": "code",
      "execution_count": 99,
      "metadata": {
        "id": "Ty6Ygdqwmad8"
      },
      "outputs": [],
      "source": [
        "# parse the pages_contents as html file\n",
        "doc = BeautifulSoup(page_contents, 'html.parser')\n"
      ]
    },
    {
      "cell_type": "markdown",
      "metadata": {
        "id": "G1IC5Gc_nWEp"
      },
      "source": [
        "## inspected website and found out that all the data that i will be working with in the div.prose class"
      ]
    },
    {
      "cell_type": "code",
      "execution_count": 100,
      "metadata": {
        "id": "csGJJZN3nMDV"
      },
      "outputs": [],
      "source": [
        "grammydets = doc.find_all('div', {'class': 'prose'})"
      ]
    },
    {
      "cell_type": "code",
      "execution_count": 101,
      "metadata": {
        "colab": {
          "base_uri": "https://localhost:8080/"
        },
        "id": "hqKXZsSKqz-z",
        "outputId": "85f0aef3-3018-4f99-affb-0a1a4b09ee88"
      },
      "outputs": [
        {
          "data": {
            "text/plain": [
              "26"
            ]
          },
          "execution_count": 101,
          "metadata": {},
          "output_type": "execute_result"
        }
      ],
      "source": [
        "# Categories\n",
        "categories_tags = grammydets[1].find_all('h1')\n",
        "len(categories_tags)"
      ]
    },
    {
      "cell_type": "code",
      "execution_count": 102,
      "metadata": {
        "colab": {
          "base_uri": "https://localhost:8080/"
        },
        "id": "aKXWhEmQKcxa",
        "outputId": "ff7a453a-b922-4f04-9cf6-89fe64d85d10"
      },
      "outputs": [
        {
          "data": {
            "text/plain": [
              "26"
            ]
          },
          "execution_count": 102,
          "metadata": {},
          "output_type": "execute_result"
        }
      ],
      "source": [
        "categories = []\n",
        "for i in range(len(categories_tags)):\n",
        "  categories.append(categories_tags[i].text)\n",
        "categories\n",
        "len(categories)"
      ]
    },
    {
      "cell_type": "markdown",
      "metadata": {
        "id": "vVnsNiPCrejE"
      },
      "source": [
        "# IT Seems like all the awards are in bold text format"
      ]
    },
    {
      "cell_type": "code",
      "execution_count": 103,
      "metadata": {
        "id": "ccEAaOWSq9x7"
      },
      "outputs": [],
      "source": [
        "# awards \n",
        "strong_tags = doc.select('p > strong')\n",
        "awards = []\n",
        "for i in range(0, len(strong_tags), 1):\n",
        "  match = re.match('\\d\\.', strong_tags[i].text)\n",
        "  match2 = re.match('\\d\\d\\.', strong_tags[i].text)\n",
        "  if match or match2 or match:\n",
        "    awards.append(strong_tags[i].text[3:].strip())\n",
        "  else:\n",
        "    continue"
      ]
    },
    {
      "cell_type": "code",
      "execution_count": 104,
      "metadata": {
        "colab": {
          "base_uri": "https://localhost:8080/"
        },
        "id": "L5t6OS1dr4DP",
        "outputId": "e83daba2-d219-48a1-bb00-bee658433f3a"
      },
      "outputs": [
        {
          "data": {
            "text/plain": [
              "['Record Of The Year',\n",
              " 'Album Of The Year',\n",
              " 'Song Of The Year',\n",
              " 'Best New Artist',\n",
              " 'Best Pop Solo Performance',\n",
              " 'Best Pop Duo/Group Performance',\n",
              " 'Best Traditional Pop Vocal Album',\n",
              " 'Best Pop Vocal Album',\n",
              " 'Best Dance/Electronic Recording',\n",
              " 'Best Dance/Electronic Music Album',\n",
              " 'Best Contemporary Instrumental Album',\n",
              " 'Best Rock Performance',\n",
              " 'Best Metal Performance',\n",
              " 'Best Rock Song',\n",
              " 'Best Rock Album',\n",
              " 'Best Alternative Music Album',\n",
              " 'Best R&B Performance',\n",
              " 'Best Traditional R&B Performance',\n",
              " 'Best R&B Song',\n",
              " 'Best Progressive R&B Album',\n",
              " 'Best R&B Album',\n",
              " 'Best Rap Performance',\n",
              " 'Best Melodic Rap Performance',\n",
              " 'Best Rap Song',\n",
              " 'Best Rap Album',\n",
              " 'Best Country Solo Performance',\n",
              " 'Best Country Duo/Group Performance',\n",
              " 'Best Country Song',\n",
              " 'Best Country Album',\n",
              " 'Best New Age Album',\n",
              " 'Best Improvised Jazz Solo',\n",
              " 'Best Jazz Vocal Album',\n",
              " 'Best Jazz Instrumental Album',\n",
              " 'Best Large Jazz Ensemble Album',\n",
              " 'Best Latin Jazz Album',\n",
              " 'Best Gospel Performance/Song',\n",
              " 'Best Contemporary Christian Music Performance/Song',\n",
              " 'Best Gospel Album',\n",
              " 'Best Contemporary Christian Music Album',\n",
              " 'Best Roots Gospel Album',\n",
              " 'Best Latin Pop Album',\n",
              " 'Best Música Urbana Album',\n",
              " 'Best Latin Rock or Alternative Album',\n",
              " 'Best Tropical Latin Album',\n",
              " 'Best American Roots Performance',\n",
              " 'Best American Roots Song',\n",
              " 'Best Americana Album',\n",
              " 'Best Bluegrass Album',\n",
              " 'Best Traditional Blues Album',\n",
              " 'Best Contemporary Blues Album',\n",
              " 'Best Folk Album',\n",
              " 'Best Regional Roots Music Album',\n",
              " 'Best Reggae Album',\n",
              " 'Best Global Music Performance',\n",
              " 'Best Global Music Album',\n",
              " \"Best Children's Music Album\",\n",
              " 'Best Spoken Word Album',\n",
              " 'Best Comedy Album',\n",
              " 'Best Musical Theater Album',\n",
              " 'Best Compilation Soundtrack For Visual Media',\n",
              " 'Best Score Soundtrack For Visual Media',\n",
              " 'Best Song Written For Visual Media',\n",
              " 'Best Instrumental Composition',\n",
              " 'Best Arrangement, Instrumental or A Cappella',\n",
              " 'Best Arrangement, Instruments and Vocals',\n",
              " 'Best Recording Package',\n",
              " 'Best Boxed Or Special Limited Edition Package',\n",
              " 'Best Album Notes',\n",
              " 'Best Historical Album',\n",
              " 'Best Engineered Album, Non-Classical',\n",
              " 'Producer Of The Year, Non-Classical',\n",
              " 'Best Remixed Recording',\n",
              " 'Best Immersive Audio Album',\n",
              " 'Best Engineered Album, Classical',\n",
              " 'Producer Of The Year, Classical',\n",
              " 'Best Orchestral Performance',\n",
              " 'Best Opera Recording',\n",
              " 'Best Choral Performance',\n",
              " 'Best Chamber Music/Small Ensemble Performance',\n",
              " 'Best Classical Instrumental Solo',\n",
              " 'Best Classical Solo Vocal Album',\n",
              " 'Best Classical Compendium',\n",
              " 'Best Contemporary Classical Composition',\n",
              " 'Best Music Video',\n",
              " 'Best Music Film']"
            ]
          },
          "execution_count": 104,
          "metadata": {},
          "output_type": "execute_result"
        }
      ],
      "source": [
        "awards"
      ]
    },
    {
      "cell_type": "code",
      "execution_count": 105,
      "metadata": {
        "colab": {
          "base_uri": "https://localhost:8080/"
        },
        "id": "gFMMS5tOtJ-l",
        "outputId": "645e1eea-d954-4553-ec08-7440906af50d"
      },
      "outputs": [
        {
          "data": {
            "text/plain": [
              "85"
            ]
          },
          "execution_count": 105,
          "metadata": {},
          "output_type": "execute_result"
        }
      ],
      "source": [
        "len(awards)"
      ]
    },
    {
      "cell_type": "markdown",
      "metadata": {
        "id": "MbegzB4xws2n"
      },
      "source": [
        "# OH UH the's supposed to be 86. I know that much\n",
        "- let's check the url to see what's wrong\n",
        "- so award 44 is not in bold that is not enclosed in a strong tag. Nah smalls we go run am"
      ]
    },
    {
      "cell_type": "code",
      "execution_count": 106,
      "metadata": {
        "id": "_xZW3BaKtN5k"
      },
      "outputs": [],
      "source": [
        "p_tags = grammydets[1].find_all('p')\n",
        "fourtyfour = ['']\n",
        "for i in range(0, len(p_tags)):\n",
        "  match3 = re.match(r'^\\*\\*\\d\\d', p_tags[i].text)\n",
        "  if match3:\n",
        "    fourtyfour.append(p_tags[i].text)\n",
        "fourtyfour = fourtyfour[1][5: 58].strip()"
      ]
    },
    {
      "cell_type": "code",
      "execution_count": 107,
      "metadata": {
        "colab": {
          "base_uri": "https://localhost:8080/",
          "height": 35
        },
        "id": "FEUrHi-pxZBI",
        "outputId": "107dc809-bf1e-4c16-c917-b61001bdc303"
      },
      "outputs": [
        {
          "data": {
            "text/plain": [
              "'Best Regional Mexican Music Album (Including Tejano)'"
            ]
          },
          "execution_count": 107,
          "metadata": {},
          "output_type": "execute_result"
        }
      ],
      "source": [
        "fourtyfour"
      ]
    },
    {
      "cell_type": "code",
      "execution_count": 108,
      "metadata": {
        "id": "2L8lxRd_yLA7"
      },
      "outputs": [],
      "source": [
        "awards.insert(43, fourtyfour)"
      ]
    },
    {
      "cell_type": "code",
      "execution_count": 109,
      "metadata": {
        "colab": {
          "base_uri": "https://localhost:8080/"
        },
        "id": "wQdMqBjD0CWN",
        "outputId": "c4bbd6d5-e0ce-477d-baf2-66987cefb5fb"
      },
      "outputs": [
        {
          "data": {
            "text/plain": [
              "86"
            ]
          },
          "execution_count": 109,
          "metadata": {},
          "output_type": "execute_result"
        }
      ],
      "source": [
        "\n",
        "len(awards)"
      ]
    },
    {
      "cell_type": "code",
      "execution_count": 110,
      "metadata": {
        "id": "8yZQWEUW0YjO"
      },
      "outputs": [],
      "source": [
        "winners = []\n",
        "tie_list1 = []\n",
        "tie_list2 = []\n",
        "\n",
        "for i in range(0, len(strong_tags), 1):\n",
        "    match = re.search('WINNER', strong_tags[i].text)\n",
        "    match2 = re.search('Sour Olivia Rodrigo', strong_tags[i].text)\n",
        "    match3 = re.search('WINNNER', strong_tags[i].text)\n",
        "    match4 = re.search('TIE', strong_tags[i].text)\n",
        "    match5 = re.search('Tie', strong_tags[i].text)\n",
        "    if match:\n",
        "      winners.append(strong_tags[i].text)\n",
        "    elif match2:\n",
        "      if strong_tags[i] not in winners:\n",
        "        winners.append(strong_tags[i].text)\n",
        "    elif match3:\n",
        "      winners.append(strong_tags[i].text)\n",
        "    elif match4:\n",
        "      tie_list1.extend(sent_tokenize(strong_tags[i].text))\n",
        "      if tie_list1 not in winners:\n",
        "        winners.append(tie_list1)\n",
        "    elif match5:\n",
        "      tie_list2.extend(sent_tokenize(strong_tags[i].text))\n",
        "      if tie_list2 not in winners:\n",
        "        winners.append(tie_list2)\n",
        "    else:\n",
        "      continue"
      ]
    },
    {
      "cell_type": "code",
      "execution_count": 111,
      "metadata": {
        "colab": {
          "base_uri": "https://localhost:8080/"
        },
        "id": "TBugOP0f1uaD",
        "outputId": "651f7ec9-63c2-40cb-8972-73cb7fdd2924"
      },
      "outputs": [
        {
          "data": {
            "text/plain": [
              "86"
            ]
          },
          "execution_count": 111,
          "metadata": {},
          "output_type": "execute_result"
        }
      ],
      "source": [
        "len(winners)"
      ]
    },
    {
      "cell_type": "markdown",
      "metadata": {
        "id": "jmJ6VAbsK7sI"
      },
      "source": [
        "Data gotten manually from url 2"
      ]
    },
    {
      "cell_type": "code",
      "execution_count": 112,
      "metadata": {
        "colab": {
          "base_uri": "https://localhost:8080/"
        },
        "id": "z3oGDG7M5AUf",
        "outputId": "46e5d7ae-373e-4e3a-9d22-cacda4a0e3bb"
      },
      "outputs": [
        {
          "name": "stdout",
          "output_type": "stream",
          "text": [
            "0:  General Field\n",
            "1:  Pop\n",
            "2:  Dance/Electronic Music\n",
            "3:  Contemporary Instrumental Music\n",
            "4:  Rock\n",
            "5:  Alternative\n",
            "6:  R&B\n",
            "7:  Rap\n",
            "8:  Country\n",
            "9:  New Age\n",
            "10:  Jazz\n",
            "11:  Gospel/Contemporary Christian Music\n",
            "12:  Latin\n",
            "13:  American Roots Music\n",
            "14:  Reggae\n",
            "15:  Global Music\n",
            "16:  Children's\n",
            "17:  Spoken Word\n",
            "18:  Comedy\n",
            "19:  Musical Theater\n",
            "20:  Music for Visual Media\n",
            "21:  Composing/Arranging\n",
            "22:  Package, Notes, and Historical\n",
            "23:  Production\n",
            "24:  Classical\n",
            "25:  Music Video/Film\n"
          ]
        }
      ],
      "source": [
        "for i in range(len(categories)):\n",
        "  print(f\"{i}: \", categories[i])"
      ]
    },
    {
      "cell_type": "code",
      "execution_count": 113,
      "metadata": {
        "colab": {
          "base_uri": "https://localhost:8080/"
        },
        "id": "iE9TDE-4Lnmj",
        "outputId": "eb3181b6-7fcb-4c56-c86a-6da680091f46"
      },
      "outputs": [
        {
          "name": "stdout",
          "output_type": "stream",
          "text": [
            "0:  4\n",
            "1:  4\n",
            "2:  2\n",
            "3:  1\n",
            "4:  4\n",
            "5:  1\n",
            "6:  5\n",
            "7:  4\n",
            "8:  4\n",
            "9:  1\n",
            "10:  5\n",
            "11:  5\n",
            "12:  5\n",
            "13:  8\n",
            "14:  1\n",
            "15:  2\n",
            "16:  1\n",
            "17:  1\n",
            "18:  1\n",
            "19:  1\n",
            "20:  3\n",
            "21:  3\n",
            "22:  4\n",
            "23:  6\n",
            "24:  8\n",
            "25:  2\n"
          ]
        }
      ],
      "source": [
        "no_of_awards = [4, 4, 2, 1, 4, 1, 5, 4, 4, 1, 5, 5, 5, 8, 1, 2, 1, 1, 1, 1, 3, 3, 4, 6, 8, 2]\n",
        "for i in range(len(no_of_awards)):\n",
        "  print(f\"{i}: \", no_of_awards[i])"
      ]
    },
    {
      "cell_type": "code",
      "execution_count": 114,
      "metadata": {
        "id": "Oh4PUduKMRB7"
      },
      "outputs": [],
      "source": [
        "categories_dict = {\n",
        "    'categories':categories,\n",
        "    'no_of_awards':no_of_awards,\n",
        "}"
      ]
    },
    {
      "cell_type": "code",
      "execution_count": 115,
      "metadata": {
        "id": "iQmgaC7RMeoE"
      },
      "outputs": [],
      "source": [
        "df = pd.DataFrame(categories_dict)"
      ]
    },
    {
      "cell_type": "code",
      "execution_count": 116,
      "metadata": {
        "colab": {
          "base_uri": "https://localhost:8080/"
        },
        "id": "aDYFNDmuMh9J",
        "outputId": "203143e8-f62a-4808-ed59-a31216290235"
      },
      "outputs": [
        {
          "data": {
            "text/plain": [
              "86"
            ]
          },
          "execution_count": 116,
          "metadata": {},
          "output_type": "execute_result"
        }
      ],
      "source": [
        "len(awards)\n"
      ]
    },
    {
      "cell_type": "code",
      "execution_count": 117,
      "metadata": {
        "id": "kUPy1gZbTdle"
      },
      "outputs": [],
      "source": [
        "awards_dict = {\n",
        "    'awards': awards,\n",
        "    'winners': winners\n",
        "}\n"
      ]
    },
    {
      "cell_type": "code",
      "execution_count": 118,
      "metadata": {
        "id": "IJk-_Y60dE6L"
      },
      "outputs": [
        {
          "data": {
            "text/html": [
              "<div>\n",
              "<style scoped>\n",
              "    .dataframe tbody tr th:only-of-type {\n",
              "        vertical-align: middle;\n",
              "    }\n",
              "\n",
              "    .dataframe tbody tr th {\n",
              "        vertical-align: top;\n",
              "    }\n",
              "\n",
              "    .dataframe thead th {\n",
              "        text-align: right;\n",
              "    }\n",
              "</style>\n",
              "<table border=\"1\" class=\"dataframe\">\n",
              "  <thead>\n",
              "    <tr style=\"text-align: right;\">\n",
              "      <th></th>\n",
              "      <th>awards</th>\n",
              "      <th>winners</th>\n",
              "    </tr>\n",
              "  </thead>\n",
              "  <tbody>\n",
              "    <tr>\n",
              "      <th>0</th>\n",
              "      <td>Record Of The Year</td>\n",
              "      <td>Leave The Door Open - WINNERSilk SonicDernst \"...</td>\n",
              "    </tr>\n",
              "    <tr>\n",
              "      <th>1</th>\n",
              "      <td>Album Of The Year</td>\n",
              "      <td>We Are - WINNERJon BatisteCraig Adams, David G...</td>\n",
              "    </tr>\n",
              "    <tr>\n",
              "      <th>2</th>\n",
              "      <td>Song Of The Year</td>\n",
              "      <td>Leave The Door Open - WINNERBrandon Anderson, ...</td>\n",
              "    </tr>\n",
              "    <tr>\n",
              "      <th>3</th>\n",
              "      <td>Best New Artist</td>\n",
              "      <td>Olivia Rodrigo - WINNER</td>\n",
              "    </tr>\n",
              "    <tr>\n",
              "      <th>4</th>\n",
              "      <td>Best Pop Solo Performance</td>\n",
              "      <td>drivers license - WINNEROlivia Rodrigo</td>\n",
              "    </tr>\n",
              "    <tr>\n",
              "      <th>...</th>\n",
              "      <td>...</td>\n",
              "      <td>...</td>\n",
              "    </tr>\n",
              "    <tr>\n",
              "      <th>81</th>\n",
              "      <td>Best Classical Solo Vocal Album</td>\n",
              "      <td>Mythologies - WINNERSangeeta Kaur &amp; Hila Plitm...</td>\n",
              "    </tr>\n",
              "    <tr>\n",
              "      <th>82</th>\n",
              "      <td>Best Classical Compendium</td>\n",
              "      <td>Women Warriors - The Voices Of Change - WINNER...</td>\n",
              "    </tr>\n",
              "    <tr>\n",
              "      <th>83</th>\n",
              "      <td>Best Contemporary Classical Composition</td>\n",
              "      <td>Shaw: Narrow Sea - WINNERCaroline Shaw, compos...</td>\n",
              "    </tr>\n",
              "    <tr>\n",
              "      <th>84</th>\n",
              "      <td>Best Music Video</td>\n",
              "      <td>Freedom - WINNERJon BatisteAlan Ferguson, vide...</td>\n",
              "    </tr>\n",
              "    <tr>\n",
              "      <th>85</th>\n",
              "      <td>Best Music Film</td>\n",
              "      <td>Summer Of Soul - WINNER(Various Artists)Ahmir ...</td>\n",
              "    </tr>\n",
              "  </tbody>\n",
              "</table>\n",
              "<p>86 rows × 2 columns</p>\n",
              "</div>"
            ],
            "text/plain": [
              "                                     awards  \\\n",
              "0                        Record Of The Year   \n",
              "1                         Album Of The Year   \n",
              "2                          Song Of The Year   \n",
              "3                           Best New Artist   \n",
              "4                 Best Pop Solo Performance   \n",
              "..                                      ...   \n",
              "81          Best Classical Solo Vocal Album   \n",
              "82                Best Classical Compendium   \n",
              "83  Best Contemporary Classical Composition   \n",
              "84                         Best Music Video   \n",
              "85                          Best Music Film   \n",
              "\n",
              "                                              winners  \n",
              "0   Leave The Door Open - WINNERSilk SonicDernst \"...  \n",
              "1   We Are - WINNERJon BatisteCraig Adams, David G...  \n",
              "2   Leave The Door Open - WINNERBrandon Anderson, ...  \n",
              "3                             Olivia Rodrigo - WINNER  \n",
              "4              drivers license - WINNEROlivia Rodrigo  \n",
              "..                                                ...  \n",
              "81  Mythologies - WINNERSangeeta Kaur & Hila Plitm...  \n",
              "82  Women Warriors - The Voices Of Change - WINNER...  \n",
              "83  Shaw: Narrow Sea - WINNERCaroline Shaw, compos...  \n",
              "84  Freedom - WINNERJon BatisteAlan Ferguson, vide...  \n",
              "85  Summer Of Soul - WINNER(Various Artists)Ahmir ...  \n",
              "\n",
              "[86 rows x 2 columns]"
            ]
          },
          "execution_count": 118,
          "metadata": {},
          "output_type": "execute_result"
        }
      ],
      "source": [
        "df_awards =  pd.DataFrame(awards_dict)\n",
        "df_awards"
      ]
    },
    {
      "cell_type": "code",
      "execution_count": 119,
      "metadata": {},
      "outputs": [],
      "source": [
        "df.to_csv(\"categories.csv\", index=None, mode='w')\n",
        "df_awards.to_csv(\"awards.csv\", index=None, mode='w')\n"
      ]
    },
    {
      "cell_type": "code",
      "execution_count": null,
      "metadata": {},
      "outputs": [],
      "source": []
    },
    {
      "cell_type": "code",
      "execution_count": null,
      "metadata": {},
      "outputs": [],
      "source": []
    },
    {
      "cell_type": "code",
      "execution_count": null,
      "metadata": {},
      "outputs": [],
      "source": []
    },
    {
      "cell_type": "code",
      "execution_count": null,
      "metadata": {},
      "outputs": [],
      "source": []
    },
    {
      "cell_type": "code",
      "execution_count": null,
      "metadata": {},
      "outputs": [],
      "source": []
    }
  ],
  "metadata": {
    "colab": {
      "collapsed_sections": [],
      "name": "scraping-the-web-for-details-on-the-2022-grammys",
      "provenance": []
    },
    "kernelspec": {
      "display_name": "Python 3",
      "name": "python3"
    },
    "language_info": {
      "codemirror_mode": {
        "name": "ipython",
        "version": 3
      },
      "file_extension": ".py",
      "mimetype": "text/x-python",
      "name": "python",
      "nbconvert_exporter": "python",
      "pygments_lexer": "ipython3",
      "version": "3.9.5"
    }
  },
  "nbformat": 4,
  "nbformat_minor": 0
}
